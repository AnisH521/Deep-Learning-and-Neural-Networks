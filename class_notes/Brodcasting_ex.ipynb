{
  "nbformat": 4,
  "nbformat_minor": 0,
  "metadata": {
    "colab": {
      "provenance": []
    },
    "kernelspec": {
      "name": "python3",
      "display_name": "Python 3"
    },
    "language_info": {
      "name": "python"
    }
  },
  "cells": [
    {
      "cell_type": "code",
      "execution_count": null,
      "metadata": {
        "id": "uazmR7sqpsKm"
      },
      "outputs": [],
      "source": [
        "import numpy as np"
      ]
    },
    {
      "cell_type": "markdown",
      "source": [
        "# Example 1"
      ],
      "metadata": {
        "id": "_ISetO2hcJn9"
      }
    },
    {
      "cell_type": "code",
      "source": [
        "A = np.array([[56.0, 0.0, 4.4, 68.0],\n",
        "              [1.2, 104.0, 52.0, 8.0],\n",
        "              [1.8, 135.0, 99.0, 0.9]])\n",
        "\n",
        "print(A)"
      ],
      "metadata": {
        "id": "9LWlbEztQxM3",
        "colab": {
          "base_uri": "https://localhost:8080/"
        },
        "outputId": "eb61808f-d559-4553-99c2-d75570f3bd7e"
      },
      "execution_count": null,
      "outputs": [
        {
          "output_type": "stream",
          "name": "stdout",
          "text": [
            "[[ 56.    0.    4.4  68. ]\n",
            " [  1.2 104.   52.    8. ]\n",
            " [  1.8 135.   99.    0.9]]\n"
          ]
        }
      ]
    },
    {
      "cell_type": "code",
      "source": [
        "cal = A.sum(axis = 0)\n",
        "print(cal)"
      ],
      "metadata": {
        "colab": {
          "base_uri": "https://localhost:8080/"
        },
        "id": "y4vMs9YdZnCW",
        "outputId": "0f601eac-df02-4772-bc89-c1de48bb456d"
      },
      "execution_count": null,
      "outputs": [
        {
          "output_type": "stream",
          "name": "stdout",
          "text": [
            "[ 59.  239.  155.4  76.9]\n"
          ]
        }
      ]
    },
    {
      "cell_type": "code",
      "source": [
        "percentage = (A/cal.reshape(1, 4))*100\n",
        "print(percentage)"
      ],
      "metadata": {
        "colab": {
          "base_uri": "https://localhost:8080/"
        },
        "id": "1DaNvzhrZ7t6",
        "outputId": "9e066e7b-215b-4e1a-9c8d-14baa2a9eb51"
      },
      "execution_count": null,
      "outputs": [
        {
          "output_type": "stream",
          "name": "stdout",
          "text": [
            "[[94.91525424  0.          2.83140283 88.42652796]\n",
            " [ 2.03389831 43.51464435 33.46203346 10.40312094]\n",
            " [ 3.05084746 56.48535565 63.70656371  1.17035111]]\n"
          ]
        }
      ]
    },
    {
      "cell_type": "markdown",
      "source": [
        "# Example 2"
      ],
      "metadata": {
        "id": "qTHR97hHdOoJ"
      }
    },
    {
      "cell_type": "code",
      "source": [
        "B = np.matrix([100, 200, 300, 400])\n",
        "\n",
        "print(A + B)"
      ],
      "metadata": {
        "colab": {
          "base_uri": "https://localhost:8080/"
        },
        "id": "zFKudfTeajsx",
        "outputId": "ec1940cf-1b1e-411e-d0db-7553025a0bf1"
      },
      "execution_count": null,
      "outputs": [
        {
          "output_type": "stream",
          "name": "stdout",
          "text": [
            "[[156.  200.  304.4 468. ]\n",
            " [101.2 304.  352.  408. ]\n",
            " [101.8 335.  399.  400.9]]\n"
          ]
        }
      ]
    },
    {
      "cell_type": "code",
      "source": [
        "C = np.matrix([[100],\n",
        "               [200],\n",
        "               [300]])\n",
        "\n",
        "print(A + C)"
      ],
      "metadata": {
        "colab": {
          "base_uri": "https://localhost:8080/"
        },
        "id": "UJkMSNvedjxR",
        "outputId": "57cd2d1d-ca2b-4b21-ec6b-ebd502fe1f09"
      },
      "execution_count": null,
      "outputs": [
        {
          "output_type": "stream",
          "name": "stdout",
          "text": [
            "[[156.  100.  104.4 168. ]\n",
            " [201.2 304.  252.  208. ]\n",
            " [301.8 435.  399.  300.9]]\n"
          ]
        }
      ]
    }
  ]
}