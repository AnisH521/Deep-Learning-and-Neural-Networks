{
  "nbformat": 4,
  "nbformat_minor": 0,
  "metadata": {
    "colab": {
      "provenance": []
    },
    "kernelspec": {
      "name": "python3",
      "display_name": "Python 3"
    },
    "language_info": {
      "name": "python"
    }
  },
  "cells": [
    {
      "cell_type": "code",
      "execution_count": null,
      "metadata": {
        "id": "pXG6VAWQfuiV"
      },
      "outputs": [],
      "source": [
        "import numpy as np"
      ]
    },
    {
      "cell_type": "markdown",
      "source": [
        "# Example 1"
      ],
      "metadata": {
        "id": "-Ij3LjBpf1zP"
      }
    },
    {
      "cell_type": "code",
      "source": [
        "A = np.random.randn(5)\n",
        "\n",
        "print(A)"
      ],
      "metadata": {
        "colab": {
          "base_uri": "https://localhost:8080/"
        },
        "id": "luZOisf9f0-a",
        "outputId": "8ebab019-f6e3-4453-f883-4f2b1fad38e2"
      },
      "execution_count": null,
      "outputs": [
        {
          "output_type": "stream",
          "name": "stdout",
          "text": [
            "[ 0.23895767 -0.22916963  0.23548775  0.29050994  0.94462005]\n"
          ]
        }
      ]
    },
    {
      "cell_type": "code",
      "source": [
        "print(A.T)"
      ],
      "metadata": {
        "colab": {
          "base_uri": "https://localhost:8080/"
        },
        "id": "SzlRbBGUf_Er",
        "outputId": "65428e99-b390-4ecb-828b-59caec17304c"
      },
      "execution_count": null,
      "outputs": [
        {
          "output_type": "stream",
          "name": "stdout",
          "text": [
            "[ 0.23895767 -0.22916963  0.23548775  0.29050994  0.94462005]\n"
          ]
        }
      ]
    },
    {
      "cell_type": "code",
      "source": [
        "print(np.dot(A, A.T))"
      ],
      "metadata": {
        "colab": {
          "base_uri": "https://localhost:8080/"
        },
        "id": "JNSMcOHFgJLd",
        "outputId": "b9b94847-ce94-4db7-f96a-e97e6650be47"
      },
      "execution_count": null,
      "outputs": [
        {
          "output_type": "stream",
          "name": "stdout",
          "text": [
            "1.14177702345543\n"
          ]
        }
      ]
    },
    {
      "cell_type": "markdown",
      "source": [
        "# Fixed"
      ],
      "metadata": {
        "id": "ZwmKJYl1gQXQ"
      }
    },
    {
      "cell_type": "code",
      "source": [
        "A = A.reshape(5, 1)\n",
        "\n",
        "print(A)"
      ],
      "metadata": {
        "colab": {
          "base_uri": "https://localhost:8080/"
        },
        "id": "UcfdMOtUgOxn",
        "outputId": "310d12a1-9841-446e-b898-fb6d6fba6f41"
      },
      "execution_count": null,
      "outputs": [
        {
          "output_type": "stream",
          "name": "stdout",
          "text": [
            "[[ 0.23895767]\n",
            " [-0.22916963]\n",
            " [ 0.23548775]\n",
            " [ 0.29050994]\n",
            " [ 0.94462005]]\n"
          ]
        }
      ]
    },
    {
      "cell_type": "code",
      "source": [
        "print(A.T)"
      ],
      "metadata": {
        "colab": {
          "base_uri": "https://localhost:8080/"
        },
        "id": "sTZuKP9jgWyH",
        "outputId": "0f3d8b6d-2f3e-4d25-f01e-5276bcfa28c2"
      },
      "execution_count": null,
      "outputs": [
        {
          "output_type": "stream",
          "name": "stdout",
          "text": [
            "[[ 0.23895767 -0.22916963  0.23548775  0.29050994  0.94462005]]\n"
          ]
        }
      ]
    },
    {
      "cell_type": "code",
      "source": [
        "print(np.dot(A, A.T))"
      ],
      "metadata": {
        "colab": {
          "base_uri": "https://localhost:8080/"
        },
        "id": "SlPeFmNvgbzx",
        "outputId": "a938a469-111b-45af-be90-3759f00fadb5"
      },
      "execution_count": null,
      "outputs": [
        {
          "output_type": "stream",
          "name": "stdout",
          "text": [
            "[[ 0.05710077 -0.05476184  0.0562716   0.06941958  0.22572421]\n",
            " [-0.05476184  0.05251872 -0.05396664 -0.06657605 -0.21647822]\n",
            " [ 0.0562716  -0.05396664  0.05545448  0.06841153  0.22244645]\n",
            " [ 0.06941958 -0.06657605  0.06841153  0.08439602  0.27442151]\n",
            " [ 0.22572421 -0.21647822  0.22244645  0.27442151  0.89230703]]\n"
          ]
        }
      ]
    }
  ]
}